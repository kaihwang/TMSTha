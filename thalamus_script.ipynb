{
 "cells": [
  {
   "cell_type": "code",
   "execution_count": 65,
   "metadata": {
    "collapsed": true
   },
   "outputs": [],
   "source": [
    "subject = \"606\"\n",
    "run = \"2\""
   ]
  },
  {
   "cell_type": "code",
   "execution_count": 66,
   "metadata": {
    "collapsed": false
   },
   "outputs": [
    {
     "data": {
      "text/plain": [
       "(96, 114, 96, 600)"
      ]
     },
     "execution_count": 66,
     "metadata": {},
     "output_type": "execute_result"
    }
   ],
   "source": [
    "%matplotlib inline\n",
    "import nibabel as nib\n",
    "img = nib.load('/Users/hellwalker/Desktop/scans/' + subject + '/Pre_Run' + run + '/brnswktm_functional_4.nii.gz')\n",
    "img_data = img.get_data()\n",
    "img_data.shape"
   ]
  },
  {
   "cell_type": "code",
   "execution_count": 67,
   "metadata": {
    "collapsed": true
   },
   "outputs": [],
   "source": [
    "#uses AFNI mask to get masked voxels. Gets all Non-Zero voxels.\n",
    "def get_masked_voxels(mask_data):\n",
    "    masked_voxels = []\n",
    "    for x in range(0, mask_data.shape[0]):\n",
    "        for y in range(0, mask_data.shape[1]):\n",
    "            for z in range(0, mask_data.shape[2]):\n",
    "                if mask_data[x, y, z] != 0:\n",
    "                    masked_voxels.append((x, y, z))\n",
    "    return masked_voxels\n",
    "\n",
    "#uses AFNI mask to get masked voxels. Gets voxels with value VALUE.\n",
    "def get_masked_voxels_specific(mask_data, value):\n",
    "    masked_voxels = []\n",
    "    for x in range(0, mask_data.shape[0]):\n",
    "        for y in range(0, mask_data.shape[1]):\n",
    "            for z in range(0, mask_data.shape[2]):\n",
    "                if mask_data[x, y, z] == value:\n",
    "                    masked_voxels.append((x, y, z))\n",
    "    return masked_voxels"
   ]
  },
  {
   "cell_type": "code",
   "execution_count": 148,
   "metadata": {
    "collapsed": false
   },
   "outputs": [
    {
     "name": "stdout",
     "output_type": "stream",
     "text": [
      "(28, 98, 108)\n"
     ]
    }
   ],
   "source": [
    "#Getting transformation from MNI to voxel space\n",
    "import nibabel as nib\n",
    "zero_reference_mask = nib.load('/Users/hellwalker/Desktop/scans/zero_reference.nii.gz')\n",
    "zero_reference_mask_data = zero_reference_mask.get_data()\n",
    "zero_voxel = get_masked_voxels(zero_reference_mask_data)[0]\n",
    "\n",
    "def mni2voxel(voxel):\n",
    "    return (voxel[0] + 2*zero_voxel[0], voxel[1] + 2*zero_voxel[1], voxel[2] + 2*zero_voxel[2])\n",
    "\n",
    "def voxel2mni(voxel):\n",
    "    return (voxel[0] - 2*zero_voxel[0], voxel[1] - 2*zero_voxel[1], voxel[2] - 2*zero_voxel[2])\n",
    "\n",
    "print(mni2voxel((-66, -32, 32)))"
   ]
  },
  {
   "cell_type": "code",
   "execution_count": 124,
   "metadata": {
    "collapsed": false
   },
   "outputs": [],
   "source": [
    "stim_site_mask = nib.load('/Users/hellwalker/Desktop/scans/stim_sites/stim_site_' + subject + '.nii.gz')\n",
    "stim_site_mask_data = stim_site_mask.get_data()\n",
    "#stim_site_mask_data.shape\n",
    "sphere_voxels = get_masked_voxels(stim_site_mask_data)\n",
    "#print(all_voxels)"
   ]
  },
  {
   "cell_type": "code",
   "execution_count": 125,
   "metadata": {
    "collapsed": false
   },
   "outputs": [
    {
     "data": {
      "text/plain": [
       "'\\n#todo: ignore voxels with 0.\\nsphere_size = 3 #3 voxels in all directions\\nepicenter = [59, -56, 47]\\nall_voxels = []#list of lists, with each list being 3D coordinate in sphere\\nfor i in range(-sphere_size, sphere_size+1):\\n    for j in range(-sphere_size, sphere_size+1):\\n         for k in range(-sphere_size, sphere_size+1):\\n                new_voxel = [epicenter[0]+i, epicenter[1]+j, epicenter[2]+k]\\n                all_voxels.append(new_voxel)\\n'"
      ]
     },
     "execution_count": 125,
     "metadata": {},
     "output_type": "execute_result"
    }
   ],
   "source": [
    "\"\"\"\n",
    "#todo: ignore voxels with 0.\n",
    "sphere_size = 3 #3 voxels in all directions\n",
    "epicenter = [59, -56, 47]\n",
    "all_voxels = []#list of lists, with each list being 3D coordinate in sphere\n",
    "for i in range(-sphere_size, sphere_size+1):\n",
    "    for j in range(-sphere_size, sphere_size+1):\n",
    "         for k in range(-sphere_size, sphere_size+1):\n",
    "                new_voxel = [epicenter[0]+i, epicenter[1]+j, epicenter[2]+k]\n",
    "                all_voxels.append(new_voxel)\n",
    "\"\"\""
   ]
  },
  {
   "cell_type": "code",
   "execution_count": 157,
   "metadata": {
    "collapsed": false
   },
   "outputs": [],
   "source": [
    "import copy\n",
    "import numpy as np\n",
    "#averaging over all voxels in sphere for every time point\n",
    "def get_avg_each_timepoint(all_voxels, img_data):\n",
    "    all_voxels = [list(voxel) for voxel in all_voxels]\n",
    "    avg_each_timepoint = []\n",
    "    for t in range(0, img_data.shape[3]):\n",
    "        all_voxels_copy = copy.deepcopy(all_voxels)\n",
    "        [all_voxels_copy[voxel].append(t) for voxel in range(0, len(all_voxels_copy))]\n",
    "        all_data = [img_data[one_voxel[0], one_voxel[1], one_voxel[2], one_voxel[3]] for one_voxel in all_voxels_copy]\n",
    "        avg = np.average(all_data)\n",
    "        avg_each_timepoint.append(avg)\n",
    "    return avg_each_timepoint\n",
    "avg_each_timepoint = get_avg_each_timepoint(all_voxels, img_data)"
   ]
  },
  {
   "cell_type": "code",
   "execution_count": 158,
   "metadata": {
    "collapsed": false
   },
   "outputs": [
    {
     "data": {
      "text/plain": [
       "(96, 114, 96)"
      ]
     },
     "execution_count": 158,
     "metadata": {},
     "output_type": "execute_result"
    }
   ],
   "source": [
    "import nibabel as nib\n",
    "mask = nib.load('/Users/hellwalker/Desktop/scans/Morel_Mask_LPI_2mm.nii.gz')\n",
    "mask_data = mask.get_data()\n",
    "mask_data.shape"
   ]
  },
  {
   "cell_type": "code",
   "execution_count": 159,
   "metadata": {
    "collapsed": false
   },
   "outputs": [],
   "source": [
    "thalamus_voxels = get_masked_voxels(mask_data)"
   ]
  },
  {
   "cell_type": "code",
   "execution_count": 160,
   "metadata": {
    "collapsed": false
   },
   "outputs": [],
   "source": [
    "import scipy as sp\n",
    "from scipy import stats\n",
    "def get_correlation_dict(thalamus_voxels, avg_each_timepoint, img_data):\n",
    "    correlation_dict = {} #thalamus_voxel:correlation between avg_each_timepoint and activity_vector, for finding max activity thalamus voxel\n",
    "    for thalamus_voxel in thalamus_voxels:\n",
    "        activity_vector = []\n",
    "        for t in range(0, img_data.shape[3]):\n",
    "            activity = img_data[thalamus_voxel[0], thalamus_voxel[1], thalamus_voxel[2], t]\n",
    "            activity_vector.append(activity)\n",
    "        correlation_dict[thalamus_voxel] = sp.stats.pearsonr(avg_each_timepoint, activity_vector)[0]\n",
    "    return correlation_dict\n",
    "correlation_dict = get_correlation_dict(thalamus_voxels, avg_each_timepoint, img_data)"
   ]
  },
  {
   "cell_type": "code",
   "execution_count": 176,
   "metadata": {
    "collapsed": false
   },
   "outputs": [
    {
     "name": "stdout",
     "output_type": "stream",
     "text": [
      "(43, 50, 40) 0.544384\n"
     ]
    }
   ],
   "source": [
    "def get_highest_correlation_key(correlation_dict):\n",
    "    highest_correlation_key = max(correlation_dict, key=lambda x: correlation_dict[x])\n",
    "    return highest_correlation_key\n",
    "best_thalamus_voxel = get_highest_correlation_key(correlation_dict)\n",
    "print(best_thalamus_voxel, correlation_dict[best_thalamus_voxel])"
   ]
  },
  {
   "cell_type": "code",
   "execution_count": 177,
   "metadata": {
    "collapsed": false
   },
   "outputs": [],
   "source": [
    "from mpl_toolkits.mplot3d import Axes3D\n",
    "from matplotlib import cm\n",
    "import matplotlib.pyplot as plt\n",
    "import numpy as np\n",
    "def get_4D_graph(best_thalamus_voxel, correlation_dict, sphere_size=4):\n",
    "    epicenter = best_thalamus_voxel\n",
    "    all_thalamus_voxels = []#list of lists, with each list being 3D coordinate in sphere\n",
    "    for i in range(-sphere_size, sphere_size+1):\n",
    "        for j in range(-sphere_size, sphere_size+1):\n",
    "             for k in range(-sphere_size, sphere_size+1):\n",
    "                    new_voxel = (epicenter[0]+i, epicenter[1]+j, epicenter[2]+k)\n",
    "                    all_thalamus_voxels.append(new_voxel)\n",
    "    c = []\n",
    "    for thalamus_voxel in all_thalamus_voxels:\n",
    "        try:\n",
    "            c.append(correlation_dict[thalamus_voxel])\n",
    "        except: #proposed voxel is not in correlation_dict\n",
    "            c.append(0.0)\n",
    "    all_thalamus_voxels_array = np.array(all_thalamus_voxels)\n",
    "    x = all_thalamus_voxels_array[:,0]\n",
    "    y = all_thalamus_voxels_array[:,1]\n",
    "    z = all_thalamus_voxels_array[:,2]\n",
    "    fig = plt.figure()\n",
    "    from mpl_toolkits.mplot3d import Axes3D\n",
    "    ax = fig.add_subplot(111, projection='3d')\n",
    "    plt.title(\"correlations of ± \" + str(sphere_size) + \" voxels about \" + str(epicenter))\n",
    "    ax.set_xlabel('Left to Right')\n",
    "    ax.set_ylabel('Posterior to Anterior')\n",
    "    ax.set_zlabel('Inferior to Superior')\n",
    "    sp = ax.scatter(x, y, z, c=c, depthshade=True)\n",
    "    plt.colorbar(sp)\n",
    "    fig.tight_layout()\n",
    "    plt.savefig('output_4D.png', dpi=300)\n",
    "#get_4D_graph(best_thalamus_voxel, correlation_dict)"
   ]
  },
  {
   "cell_type": "code",
   "execution_count": 178,
   "metadata": {
    "collapsed": false
   },
   "outputs": [],
   "source": [
    "from mpl_toolkits.mplot3d import Axes3D\n",
    "from matplotlib import cm\n",
    "import matplotlib.pyplot as plt\n",
    "import numpy as np\n",
    "\n",
    "#f(2) --> 1 (2 - 1 = 1), 0 (2 - 2 = 0)\n",
    "#f(1) --> 0 (1 - 1 = 0), 2 (1 - 2 = -1 = 2)\n",
    "#f(0) --> 2 (0 - 1 = -1 = 2), 1 (0 - 2 = -2 = 1)\n",
    "\n",
    "def get_volcano_graph(all_thalamus_voxels, best_thalamus_voxel, correlation_dict, flip=False, axis='z'):\n",
    "    if axis == 'z':\n",
    "        axis_num = 2\n",
    "    elif axis == 'y':\n",
    "        axis_num = 1\n",
    "    elif axis == 'x':\n",
    "        axis_num = 0\n",
    "    else:\n",
    "        raise NameError(\"Specify 'x', 'y', or 'z' for the fourth argument\")\n",
    "    \n",
    "    z_plane = best_thalamus_voxel[axis_num]\n",
    "    thalamus_voxels_on_plane = [voxel for voxel in all_thalamus_voxels if voxel[axis_num] == z_plane]\n",
    "    thalamus_voxels_on_plane_array = np.array(thalamus_voxels_on_plane)\n",
    "    x = thalamus_voxels_on_plane_array[:,axis_num-2]\n",
    "    y = thalamus_voxels_on_plane_array[:,axis_num-1]\n",
    "    z = []\n",
    "    for thalamus_voxel in thalamus_voxels_on_plane:\n",
    "        try:\n",
    "            z.append(correlation_dict[thalamus_voxel])\n",
    "        except: #proposed voxel is not in correlation_dict\n",
    "            z.append(0.0)\n",
    "    fig = plt.figure()\n",
    "    ax = fig.gca(projection='3d')\n",
    "    \n",
    "    if flip:\n",
    "        ax.plot_trisurf(y, x, z, cmap=cm.jet, linewidth=0.05)\n",
    "    else:\n",
    "        ax.plot_trisurf(x, y, z, cmap=cm.jet, linewidth=0.05)\n",
    "    title = \"correlations of thalamus voxels at \" + axis + \"=\" + str(best_thalamus_voxel[axis_num]) + \" with max \" +  str(best_thalamus_voxel)\n",
    "    if flip:\n",
    "        title += \" flipped\"\n",
    "    plt.title(title)\n",
    "    #ax.set_xlabel('Left to Right')\n",
    "    #ax.set_ylabel('Posterior to Anterior')\n",
    "    ax.set_zlabel('Correlation')\n",
    "    plt.savefig(title + \".png\", dpi=300)\n",
    "    plt.show()\n",
    "    \n",
    "#get_volcano_graph(thalamus_voxels, best_thalamus_voxel, correlation_dict, True, 'x')\n",
    "#get_volcano_graph(thalamus_voxels, best_thalamus_voxel, correlation_dict, False, 'x')\n",
    "#get_volcano_graph(thalamus_voxels, best_thalamus_voxel, correlation_dict, True, 'y')\n",
    "#get_volcano_graph(thalamus_voxels, best_thalamus_voxel, correlation_dict, False, 'y')\n",
    "#get_volcano_graph(thalamus_voxels, best_thalamus_voxel, correlation_dict, True, 'z')\n",
    "#get_volcano_graph(thalamus_voxels, best_thalamus_voxel, correlation_dict, False, 'z')"
   ]
  },
  {
   "cell_type": "code",
   "execution_count": 179,
   "metadata": {
    "collapsed": false
   },
   "outputs": [
    {
     "name": "stdout",
     "output_type": "stream",
     "text": [
      "(96, 114, 96)\n"
     ]
    }
   ],
   "source": [
    "best_voxel_sphere_mask = nib.load('/Users/hellwalker/Desktop/scans/thalamus_sites/thalamus_site_' + subject + '_Run' + run + '.nii.gz')\n",
    "best_voxel_sphere_mask_data = best_voxel_sphere_mask.get_data()\n",
    "print(best_voxel_sphere_mask_data.shape)\n",
    "#print(best_thalamus_voxel)\n",
    "sphere_voxels = get_masked_voxels(best_voxel_sphere_mask_data)\n",
    "#print(sphere_voxels)\n",
    "#print(thalamus_voxels)\n",
    "\"\"\"The best thalamus voxel may be at the edge of the thalamus. Therefore, the sphere may\n",
    "contain voxels that are not in the thalamus. Therefore, sphere_voxels that are not in \n",
    "thalamus_voxels will be filtered out.\"\"\"\n",
    "filtered_sphere_voxels = [list(voxel) for voxel in sphere_voxels if voxel in thalamus_voxels]\n",
    "#print(filtered_sphere_voxels)"
   ]
  },
  {
   "cell_type": "code",
   "execution_count": 180,
   "metadata": {
    "collapsed": false
   },
   "outputs": [],
   "source": [
    "best_voxel_sphere_activity_vector = avg_each_timepoint\n",
    "#best_voxel_sphere_activity_vector = get_avg_each_timepoint(filtered_sphere_voxels, img_data)\n",
    "#print(best_voxel_sphere_activity_vector)"
   ]
  },
  {
   "cell_type": "code",
   "execution_count": 121,
   "metadata": {
    "collapsed": false
   },
   "outputs": [],
   "source": [
    "import nibabel as nib\n",
    "gordon_mask = nib.load('/Users/hellwalker/Desktop/scans/Gordon_333_cortical_2mm.nii.gz')\n",
    "gordon_mask_data = gordon_mask.get_data()\n",
    "#gordon_mask_data.shape\n",
    "#ROI_dict = {i:get_masked_voxels_specific(gordon_mask_data, i) for i in range(1, 334)}\n",
    "#print(ROI_dict)"
   ]
  },
  {
   "cell_type": "code",
   "execution_count": 122,
   "metadata": {
    "collapsed": false
   },
   "outputs": [
    {
     "name": "stdout",
     "output_type": "stream",
     "text": [
      "48\n"
     ]
    }
   ],
   "source": [
    "#creating ROI_dict takes forever. Therefore, I have serialized the object, and it can be deserialized if needed.\n",
    "import pickle\n",
    "#ROI_dict_file = open(\"/Users/hellwalker/Desktop/scans/ROI_dict_file\", \"wb\") #create a new file \n",
    "#pickle.dump(ROI_dict, ROI_dict_file, 2)\n",
    "ROI_dict_file = open(\"/Users/hellwalker/Desktop/scans/ROI_dict_file\", \"rb\")\n",
    "ROI_dict = pickle.load(ROI_dict_file)\n",
    "#print(len(ROI_dict[333]))"
   ]
  },
  {
   "cell_type": "code",
   "execution_count": 170,
   "metadata": {
    "collapsed": false
   },
   "outputs": [],
   "source": [
    "\"\"\"ROI_activity_dict is a dictionary of {ROI number: activity vector},\n",
    "where activity vector consists of the average of the activity across the ROI at each timepoint.\n",
    "This is also serialized to save time.\"\"\"\n",
    "#ROI_activity_dict = {i: get_avg_each_timepoint(ROI_dict[i], img_data) for i in range(1, 334)}\n",
    "#ROI_activity_dict_file = open(\"/Users/hellwalker/Desktop/scans/ROI_dict_activity_\" + subject + \"_Run\" + run, \"wb\") #create a new file \n",
    "#pickle.dump(ROI_activity_dict, ROI_activity_dict_file, 2)\n",
    "ROI_activity_dict_file = open(\"/Users/hellwalker/Desktop/scans/ROI_dict_activity_\" + subject + \"_Run\" + run, \"rb\")\n",
    "ROI_activity_dict = pickle.load(ROI_activity_dict_file)\n",
    "#avg_each_timepoint = get_avg_each_timepoint(ROI_dict[333], img_data)\n",
    "#print(avg_each_timepoint)\n",
    "#print(ROI_activity_dict)"
   ]
  },
  {
   "cell_type": "code",
   "execution_count": 194,
   "metadata": {
    "collapsed": false
   },
   "outputs": [
    {
     "name": "stdout",
     "output_type": "stream",
     "text": [
      "[195, 42, 193, 85, 109, 208, 228, 177, 229, 100, 230, 41, 76, 23, 231, 62, 192, 103, 105, 63]\n"
     ]
    }
   ],
   "source": [
    "import operator\n",
    "#produces correlation dictionary with {ROI number: correlation with best_thalamus_voxel}\n",
    "ROI_correlation_dict = {i: sp.stats.pearsonr(best_voxel_sphere_activity_vector, ROI_activity_dict[i])[0] for i in range(1, 334)}\n",
    "#print(ROI_correlation_dict)\n",
    "#print(get_highest_correlation_key(ROI_correlation_dict), ROI_correlation_dict[63])\n",
    "sorted_dict = sorted(ROI_correlation_dict.items(), key=operator.itemgetter(1))\n",
    "best_20_with_corr = sorted_dict[-20:]\n",
    "best_20 = [item[0] for item in best_20_with_corr]\n",
    "print(best_20)"
   ]
  },
  {
   "cell_type": "code",
   "execution_count": null,
   "metadata": {
    "collapsed": true
   },
   "outputs": [],
   "source": [
    "#do the same thing with stimulation site. the only difference would be the value of avg_each_timepoint"
   ]
  }
 ],
 "metadata": {
  "kernelspec": {
   "display_name": "Python 3",
   "language": "python",
   "name": "python3"
  },
  "language_info": {
   "codemirror_mode": {
    "name": "ipython",
    "version": 3
   },
   "file_extension": ".py",
   "mimetype": "text/x-python",
   "name": "python",
   "nbconvert_exporter": "python",
   "pygments_lexer": "ipython3",
   "version": "3.5.1"
  }
 },
 "nbformat": 4,
 "nbformat_minor": 0
}
